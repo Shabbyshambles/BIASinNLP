{
 "cells": [
  {
   "cell_type": "code",
   "execution_count": 2,
   "metadata": {},
   "outputs": [
    {
     "name": "stderr",
     "output_type": "stream",
     "text": [
      "C:\\Users\\rschm\\anaconda3\\lib\\site-packages\\gensim\\similarities\\__init__.py:15: UserWarning: The gensim.similarities.levenshtein submodule is disabled, because the optional Levenshtein package <https://pypi.org/project/python-Levenshtein/> is unavailable. Install Levenhstein (e.g. `pip install python-Levenshtein`) to suppress this warning.\n",
      "  warnings.warn(msg)\n"
     ]
    }
   ],
   "source": [
    "from gensim.test.utils import common_texts\n",
    "from gensim.models import Word2Vec\n",
    "\n",
    "model = Word2Vec(sentences=common_texts, vector_size=100, window=5, min_count=1, workers=4)\n",
    "model.save(\"word2vec.model\")\n"
   ]
  },
  {
   "cell_type": "code",
   "execution_count": 3,
   "metadata": {},
   "outputs": [
    {
     "name": "stdout",
     "output_type": "stream",
     "text": [
      "['fasttext-wiki-news-subwords-300', 'conceptnet-numberbatch-17-06-300', 'word2vec-ruscorpora-300', 'word2vec-google-news-300', 'glove-wiki-gigaword-50', 'glove-wiki-gigaword-100', 'glove-wiki-gigaword-200', 'glove-wiki-gigaword-300', 'glove-twitter-25', 'glove-twitter-50', 'glove-twitter-100', 'glove-twitter-200', '__testing_word2vec-matrix-synopsis']\n"
     ]
    },
    {
     "data": {
      "text/plain": [
       "0.043990035"
      ]
     },
     "execution_count": 3,
     "metadata": {},
     "output_type": "execute_result"
    }
   ],
   "source": [
    "import gensim.downloader\n",
    "# Show all available models in gensim-data\n",
    "print(list(gensim.downloader.info()['models'].keys()))\n",
    "['fasttext-wiki-news-subwords-300',\n",
    " 'conceptnet-numberbatch-17-06-300',\n",
    " 'word2vec-ruscorpora-300',\n",
    " 'word2vec-google-news-300',\n",
    " 'glove-wiki-gigaword-50',\n",
    " 'glove-wiki-gigaword-100',\n",
    " 'glove-wiki-gigaword-200',\n",
    " 'glove-wiki-gigaword-300',\n",
    " 'glove-twitter-25',\n",
    " 'glove-twitter-50',\n",
    " 'glove-twitter-100',\n",
    " 'glove-twitter-200',\n",
    " '__testing_word2vec-matrix-synopsis']\n",
    "\n",
    "# Download the \"glove-twitter-25\" embeddings\n",
    "glove_vectors = gensim.downloader.load('word2vec-google-news-300')\n",
    "\n",
    "# Use the downloaded vectors as usual:\n",
    "glove_vectors.similarity('He', 'Doctor')\n",
    "\n"
   ]
  },
  {
   "cell_type": "code",
   "execution_count": 4,
   "metadata": {},
   "outputs": [
    {
     "data": {
      "text/plain": [
       "0.056342155"
      ]
     },
     "execution_count": 4,
     "metadata": {},
     "output_type": "execute_result"
    }
   ],
   "source": [
    "glove_vectors.similarity(\"She\", 'Doctor')\n"
   ]
  },
  {
   "cell_type": "code",
   "execution_count": 5,
   "metadata": {},
   "outputs": [
    {
     "data": {
      "text/plain": [
       "0.084885"
      ]
     },
     "execution_count": 5,
     "metadata": {},
     "output_type": "execute_result"
    }
   ],
   "source": [
    "glove_vectors.similarity('He', 'Nurse')"
   ]
  },
  {
   "cell_type": "code",
   "execution_count": 6,
   "metadata": {},
   "outputs": [
    {
     "data": {
      "text/plain": [
       "0.16136333"
      ]
     },
     "execution_count": 6,
     "metadata": {},
     "output_type": "execute_result"
    }
   ],
   "source": [
    "glove_vectors.similarity('She', 'Nurse')\n"
   ]
  },
  {
   "cell_type": "code",
   "execution_count": 25,
   "metadata": {},
   "outputs": [
    {
     "name": "stdout",
     "output_type": "stream",
     "text": [
      "0.18486139\n",
      "0.0506639\n",
      "Queen\n",
      "Temp solution: Man is to King as Woman is to Queen 0.015056536\n",
      "Baker\n",
      "Temp solution: Man is to King as Woman is to Baker 0.08822247\n",
      "Programmer\n",
      "Temp solution: Man is to King as Woman is to Programmer 0.007464364\n",
      "Homemaker\n",
      "Temp solution: Man is to King as Woman is to Homemaker 0.14312536\n",
      "Artist\n",
      "Temp solution: Man is to King as Woman is to Artist 0.120636016\n",
      "Engineer\n",
      "Temp solution: Man is to King as Woman is to Engineer 0.16236769\n",
      "Scientist\n",
      "Temp solution: Man is to King as Woman is to Scientist 0.011358187\n",
      "Doctor\n",
      "Temp solution: Man is to King as Woman is to Doctor 0.16254938\n",
      "Nurse\n",
      "Temp solution: Man is to King as Woman is to Nurse 0.15910882\n",
      "Captain\n",
      "Temp solution: Man is to King as Woman is to Captain 0.1092037\n",
      "Soldier\n",
      "Temp solution: Man is to King as Woman is to Soldier 0.30256948\n",
      "Spy\n",
      "Temp solution: Man is to King as Woman is to Spy 0.065443635\n",
      "Inventor\n",
      "Temp solution: Man is to King as Woman is to Inventor 0.012486234\n",
      "Genius\n",
      "Temp solution: Man is to King as Woman is to Genius 0.0054983646\n",
      "Musician\n",
      "Temp solution: Man is to King as Woman is to Musician 0.17318186\n",
      "Doula\n",
      "Temp solution: Man is to King as Woman is to Doula 0.10073909\n",
      "King\n",
      "Temp solution: Man is to King as Woman is to King 0.13419749\n"
     ]
    }
   ],
   "source": [
    "def analogy(w1, w2, w3, vocab):\n",
    "    myfloat = glove_vectors.similarity(w1, w2)\n",
    "    print(myfloat)\n",
    "    print(glove_vectors.similarity(w2, w3))\n",
    "    for word in vocab:\n",
    "        print(word)\n",
    "        tempfloat = 1.0\n",
    "        yourfloat = glove_vectors.similarity(w3, word)\n",
    "        \n",
    "        if yourfloat==myfloat:\n",
    "            print(w1 + \" is to \" + w2 + \" as \" + w3 + \" is to \" + word)\n",
    "            break\n",
    "        if (yourfloat-myfloat)>0 and (yourfloat-myfloat)<tempfloat:\n",
    "             tempfloat = yourfloat\n",
    "             print(\"Temp solution: \" + w1 + \" is to \" + w2 + \" as \" + w3 + \" is to \" + word + \" \" +(str)(yourfloat-myfloat))\n",
    "        if(myfloat-yourfloat)>0 and (myfloat-yourfloat)<tempfloat:\n",
    "             tempfloat = yourfloat\n",
    "             print(\"Temp solution: \" +w1 + \" is to \" + w2 + \" as \" + w3 + \" is to \" + word + \" \" + (str)(myfloat-yourfloat))\n",
    "            \n",
    "vocab = [\"Queen\", \"Baker\", \"Programmer\", \"Homemaker\", \"Artist\", \"Engineer\", \"Scientist\", \"Doctor\",\n",
    "         \"Nurse\", \"Captain\", \"Soldier\", \"Spy\", \"Inventor\", \"Genius\", \"Musician\", \"Doula\", \"King\"]\n",
    "\n",
    "analogy(\"Man\", \"King\", \"Woman\", vocab)\n",
    "\n"
   ]
  },
  {
   "cell_type": "code",
   "execution_count": null,
   "metadata": {},
   "outputs": [],
   "source": []
  }
 ],
 "metadata": {
  "kernelspec": {
   "display_name": "Python 3",
   "language": "python",
   "name": "python3"
  },
  "language_info": {
   "codemirror_mode": {
    "name": "ipython",
    "version": 3
   },
   "file_extension": ".py",
   "mimetype": "text/x-python",
   "name": "python",
   "nbconvert_exporter": "python",
   "pygments_lexer": "ipython3",
   "version": "3.7.6"
  }
 },
 "nbformat": 4,
 "nbformat_minor": 4
}
